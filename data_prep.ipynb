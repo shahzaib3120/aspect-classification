{
 "cells": [
  {
   "cell_type": "code",
   "execution_count": 1,
   "metadata": {},
   "outputs": [],
   "source": [
    "import pandas as pd\n"
   ]
  },
  {
   "cell_type": "code",
   "execution_count": 2,
   "metadata": {},
   "outputs": [
    {
     "name": "stdout",
     "output_type": "stream",
     "text": [
      "Conversion completed and saved to aspect_classification_updated.csv\n"
     ]
    }
   ],
   "source": [
    "\n",
    "# Load the CSV file into a pandas DataFrame\n",
    "df = pd.read_csv('Data/data.csv')\n",
    "\n",
    "# Drop duplicates based on Pre_Text column\n",
    "df.drop_duplicates(subset=['Pre_Text', \"aspectCategory\"], inplace=True)\n",
    "\n",
    "# Group by Pre_Text and concatenate aspects\n",
    "df_grouped = df.groupby('Pre_Text')['aspectCategory'].apply(lambda x: ', '.join(x)).reset_index()\n",
    "\n",
    "# Rename the columns\n",
    "df_grouped.columns = ['Pre_Text', 'aspects']\n",
    "\n",
    "# Save the new DataFrame to a new CSV file\n",
    "df_grouped.to_csv('Data/data_grouped.csv', index=False)\n",
    "\n",
    "print(\"Conversion completed and saved to aspect_classification_updated.csv\")"
   ]
  },
  {
   "cell_type": "code",
   "execution_count": null,
   "metadata": {},
   "outputs": [],
   "source": [
    "# Load the updated CSV file\n",
    "df_updated = pd.read_csv('Data/data_grouped.csv')\n",
    "\n",
    "# Split the concatenated aspect names into a list and flatten it\n",
    "aspect_names_list = [aspect.split(', ') for aspect in df_updated['aspects']]\n",
    "aspect_names_flat = [aspect for sublist in aspect_names_list for aspect in sublist]\n",
    "\n",
    "# Get unique aspect names\n",
    "unique_aspect_names = set(aspect_names_flat)\n",
    "\n",
    "print(\"Unique aspect names:\", unique_aspect_names)"
   ]
  }
 ],
 "metadata": {
  "kernelspec": {
   "display_name": "torch",
   "language": "python",
   "name": "python3"
  },
  "language_info": {
   "codemirror_mode": {
    "name": "ipython",
    "version": 3
   },
   "file_extension": ".py",
   "mimetype": "text/x-python",
   "name": "python",
   "nbconvert_exporter": "python",
   "pygments_lexer": "ipython3",
   "version": "3.11.4"
  }
 },
 "nbformat": 4,
 "nbformat_minor": 2
}
