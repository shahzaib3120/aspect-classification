{
 "cells": [
  {
   "cell_type": "code",
   "execution_count": 2,
   "metadata": {},
   "outputs": [
    {
     "name": "stderr",
     "output_type": "stream",
     "text": [
      "c:\\Users\\Shahzaib\\miniconda3\\envs\\torch\\Lib\\site-packages\\tqdm\\auto.py:21: TqdmWarning: IProgress not found. Please update jupyter and ipywidgets. See https://ipywidgets.readthedocs.io/en/stable/user_install.html\n",
      "  from .autonotebook import tqdm as notebook_tqdm\n"
     ]
    }
   ],
   "source": [
    "import torch\n",
    "from datasets import load_dataset\n",
    "from datasets import concatenate_datasets\n",
    "from transformers import AutoTokenizer, AutoModelForSequenceClassification, DataCollatorWithPadding, TrainingArguments, Trainer\n",
    "import evaluate\n",
    "import numpy as np\n",
    "import pandas as pd"
   ]
  },
  {
   "cell_type": "code",
   "execution_count": 16,
   "metadata": {},
   "outputs": [],
   "source": [
    "checkpoint = \"yangheng/deberta-v3-base-absa\"\n",
    "MAX_LEN = 128"
   ]
  },
  {
   "cell_type": "markdown",
   "metadata": {},
   "source": [
    "## Data loading"
   ]
  },
  {
   "cell_type": "code",
   "execution_count": 3,
   "metadata": {},
   "outputs": [
    {
     "data": {
      "text/html": [
       "<div>\n",
       "<style scoped>\n",
       "    .dataframe tbody tr th:only-of-type {\n",
       "        vertical-align: middle;\n",
       "    }\n",
       "\n",
       "    .dataframe tbody tr th {\n",
       "        vertical-align: top;\n",
       "    }\n",
       "\n",
       "    .dataframe thead th {\n",
       "        text-align: right;\n",
       "    }\n",
       "</style>\n",
       "<table border=\"1\" class=\"dataframe\">\n",
       "  <thead>\n",
       "    <tr style=\"text-align: right;\">\n",
       "      <th></th>\n",
       "      <th>Pre_Text</th>\n",
       "      <th>aspects</th>\n",
       "    </tr>\n",
       "  </thead>\n",
       "  <tbody>\n",
       "    <tr>\n",
       "      <th>0</th>\n",
       "      <td>05 bar melted chocolate cup</td>\n",
       "      <td>food</td>\n",
       "    </tr>\n",
       "    <tr>\n",
       "      <th>1</th>\n",
       "      <td>07 menu deal try hip tribeca restaurant wrong ...</td>\n",
       "      <td>food</td>\n",
       "    </tr>\n",
       "    <tr>\n",
       "      <th>2</th>\n",
       "      <td>1 1 small piece</td>\n",
       "      <td>price</td>\n",
       "    </tr>\n",
       "    <tr>\n",
       "      <th>3</th>\n",
       "      <td>1 hour water 1 hour drinks 1 hour food see alm...</td>\n",
       "      <td>price</td>\n",
       "    </tr>\n",
       "    <tr>\n",
       "      <th>4</th>\n",
       "      <td>1 small piece</td>\n",
       "      <td>price</td>\n",
       "    </tr>\n",
       "  </tbody>\n",
       "</table>\n",
       "</div>"
      ],
      "text/plain": [
       "                                            Pre_Text aspects\n",
       "0                        05 bar melted chocolate cup    food\n",
       "1  07 menu deal try hip tribeca restaurant wrong ...    food\n",
       "2                                    1 1 small piece   price\n",
       "3  1 hour water 1 hour drinks 1 hour food see alm...   price\n",
       "4                                      1 small piece   price"
      ]
     },
     "execution_count": 3,
     "metadata": {},
     "output_type": "execute_result"
    }
   ],
   "source": [
    "data = pd.read_csv('Data/data_grouped.csv')\n",
    "data.head()"
   ]
  },
  {
   "cell_type": "code",
   "execution_count": 5,
   "metadata": {},
   "outputs": [
    {
     "name": "stdout",
     "output_type": "stream",
     "text": [
      "Unique aspect names: {'staff', 'location', 'seating', 'drinks', 'decor', 'food', 'parking', 'place', 'menu', 'price', 'dessert', 'ambience', 'service', 'clean', 'views'}\n",
      "Number of unique aspect names: 15\n"
     ]
    }
   ],
   "source": [
    "# Split the concatenated aspect names into a list and flatten it\n",
    "aspect_names_list = [aspect.split(', ') for aspect in data['aspects']]\n",
    "aspect_names_flat = [aspect for sublist in aspect_names_list for aspect in sublist]\n",
    "\n",
    "# Get unique aspect names\n",
    "aspects = set(aspect_names_flat)\n",
    "print(\"Unique aspect names:\", aspects)\n",
    "print(\"Number of unique aspect names:\", len(aspects))"
   ]
  },
  {
   "cell_type": "code",
   "execution_count": 15,
   "metadata": {},
   "outputs": [
    {
     "data": {
      "text/plain": [
       "14.209853197312764"
      ]
     },
     "execution_count": 15,
     "metadata": {},
     "output_type": "execute_result"
    }
   ],
   "source": [
    "# check average length of the text\n",
    "data['Pre_Text'].apply(lambda x: len(x.split())).mean()"
   ]
  },
  {
   "cell_type": "code",
   "execution_count": 6,
   "metadata": {},
   "outputs": [],
   "source": [
    "class2id = {class_:id for id, class_ in enumerate(aspects)}\n",
    "id2class = {id:class_ for class_, id in class2id.items()}"
   ]
  },
  {
   "cell_type": "code",
   "execution_count": 7,
   "metadata": {},
   "outputs": [
    {
     "name": "stdout",
     "output_type": "stream",
     "text": [
      "class2id: {'staff': 0, 'location': 1, 'seating': 2, 'drinks': 3, 'decor': 4, 'food': 5, 'parking': 6, 'place': 7, 'menu': 8, 'price': 9, 'dessert': 10, 'ambience': 11, 'service': 12, 'clean': 13, 'views': 14}\n",
      "id2class: {0: 'staff', 1: 'location', 2: 'seating', 3: 'drinks', 4: 'decor', 5: 'food', 6: 'parking', 7: 'place', 8: 'menu', 9: 'price', 10: 'dessert', 11: 'ambience', 12: 'service', 13: 'clean', 14: 'views'}\n"
     ]
    }
   ],
   "source": [
    "print(\"class2id:\", class2id)\n",
    "print(\"id2class:\", id2class)"
   ]
  },
  {
   "cell_type": "code",
   "execution_count": 8,
   "metadata": {},
   "outputs": [
    {
     "name": "stderr",
     "output_type": "stream",
     "text": [
      "c:\\Users\\Shahzaib\\miniconda3\\envs\\torch\\Lib\\site-packages\\transformers\\convert_slow_tokenizer.py:550: UserWarning: The sentencepiece tokenizer that you are converting to a fast tokenizer uses the byte fallback option which is not implemented in the fast tokenizers. In practice this means that the fast version of the tokenizer can produce unknown tokens whereas the sentencepiece version would have converted these unknown tokens into a sequence of byte tokens matching the original piece of text.\n",
      "  warnings.warn(\n"
     ]
    }
   ],
   "source": [
    "tokenizer = AutoTokenizer.from_pretrained(checkpoint)"
   ]
  },
  {
   "cell_type": "code",
   "execution_count": 17,
   "metadata": {},
   "outputs": [],
   "source": [
    "def preprocess_function(example):\n",
    "   text = example['Pre_Text']\n",
    "   all_labels = example['aspects'].split(', ')\n",
    "   labels = [0. for i in range(len(aspects))]\n",
    "   for label in all_labels:\n",
    "       label_id = class2id[label]\n",
    "       labels[label_id] = 1.\n",
    "  \n",
    "   example = tokenizer(text, truncation=True, max_length=MAX_LEN, padding='max_length')\n",
    "   example['labels'] = labels\n",
    "   return example"
   ]
  },
  {
   "cell_type": "code",
   "execution_count": 18,
   "metadata": {},
   "outputs": [],
   "source": [
    "dataset = load_dataset('csv', data_files='Data/data_grouped.csv', split='train')\n",
    "dataset = dataset.train_test_split(test_size=0.2)"
   ]
  },
  {
   "cell_type": "code",
   "execution_count": 19,
   "metadata": {},
   "outputs": [
    {
     "data": {
      "text/plain": [
       "DatasetDict({\n",
       "    train: Dataset({\n",
       "        features: ['Pre_Text', 'aspects'],\n",
       "        num_rows: 48228\n",
       "    })\n",
       "    test: Dataset({\n",
       "        features: ['Pre_Text', 'aspects'],\n",
       "        num_rows: 12057\n",
       "    })\n",
       "})"
      ]
     },
     "execution_count": 19,
     "metadata": {},
     "output_type": "execute_result"
    }
   ],
   "source": [
    "dataset"
   ]
  },
  {
   "cell_type": "code",
   "execution_count": 20,
   "metadata": {},
   "outputs": [
    {
     "name": "stderr",
     "output_type": "stream",
     "text": [
      "Map: 100%|██████████| 48228/48228 [00:13<00:00, 3461.67 examples/s]\n",
      "Map: 100%|██████████| 12057/12057 [00:03<00:00, 3076.32 examples/s]\n"
     ]
    }
   ],
   "source": [
    "tokenized_dataset = dataset.map(preprocess_function)"
   ]
  },
  {
   "cell_type": "code",
   "execution_count": 21,
   "metadata": {},
   "outputs": [],
   "source": [
    "\n",
    "\n",
    "data_collator = DataCollatorWithPadding(tokenizer=tokenizer)"
   ]
  },
  {
   "cell_type": "code",
   "execution_count": 22,
   "metadata": {},
   "outputs": [],
   "source": [
    "\n",
    "\n",
    "clf_metrics = evaluate.combine([\"accuracy\", \"f1\", \"precision\", \"recall\"])\n",
    "\n",
    "def sigmoid(x):\n",
    "   return 1/(1 + np.exp(-x))\n",
    "\n",
    "def compute_metrics(eval_pred):\n",
    "\n",
    "   predictions, labels = eval_pred\n",
    "   predictions = sigmoid(predictions)\n",
    "   predictions = (predictions > 0.5).astype(int).reshape(-1)\n",
    "   return clf_metrics.compute(predictions=predictions, references=labels.astype(int).reshape(-1))\n"
   ]
  },
  {
   "cell_type": "code",
   "execution_count": 23,
   "metadata": {},
   "outputs": [
    {
     "name": "stderr",
     "output_type": "stream",
     "text": [
      "Some weights of DebertaV2ForSequenceClassification were not initialized from the model checkpoint at yangheng/deberta-v3-base-absa and are newly initialized: ['classifier.bias', 'classifier.weight', 'pooler.dense.bias', 'pooler.dense.weight']\n",
      "You should probably TRAIN this model on a down-stream task to be able to use it for predictions and inference.\n"
     ]
    }
   ],
   "source": [
    "model = AutoModelForSequenceClassification.from_pretrained(\n",
    "        checkpoint, num_labels=len(aspects),\n",
    "        id2label=id2class, label2id=class2id,\n",
    "        problem_type = \"multi_label_classification\")"
   ]
  },
  {
   "cell_type": "code",
   "execution_count": 24,
   "metadata": {},
   "outputs": [
    {
     "name": "stdout",
     "output_type": "stream",
     "text": [
      "DebertaV2Config {\n",
      "  \"_name_or_path\": \"yangheng/deberta-v3-base-absa\",\n",
      "  \"attention_probs_dropout_prob\": 0.1,\n",
      "  \"hidden_act\": \"gelu\",\n",
      "  \"hidden_dropout_prob\": 0.1,\n",
      "  \"hidden_size\": 768,\n",
      "  \"id2label\": {\n",
      "    \"0\": \"staff\",\n",
      "    \"1\": \"location\",\n",
      "    \"2\": \"seating\",\n",
      "    \"3\": \"drinks\",\n",
      "    \"4\": \"decor\",\n",
      "    \"5\": \"food\",\n",
      "    \"6\": \"parking\",\n",
      "    \"7\": \"place\",\n",
      "    \"8\": \"menu\",\n",
      "    \"9\": \"price\",\n",
      "    \"10\": \"dessert\",\n",
      "    \"11\": \"ambience\",\n",
      "    \"12\": \"service\",\n",
      "    \"13\": \"clean\",\n",
      "    \"14\": \"views\"\n",
      "  },\n",
      "  \"initializer_range\": 0.02,\n",
      "  \"intermediate_size\": 3072,\n",
      "  \"label2id\": {\n",
      "    \"ambience\": 11,\n",
      "    \"clean\": 13,\n",
      "    \"decor\": 4,\n",
      "    \"dessert\": 10,\n",
      "    \"drinks\": 3,\n",
      "    \"food\": 5,\n",
      "    \"location\": 1,\n",
      "    \"menu\": 8,\n",
      "    \"parking\": 6,\n",
      "    \"place\": 7,\n",
      "    \"price\": 9,\n",
      "    \"seating\": 2,\n",
      "    \"service\": 12,\n",
      "    \"staff\": 0,\n",
      "    \"views\": 14\n",
      "  },\n",
      "  \"layer_norm_eps\": 1e-07,\n",
      "  \"max_position_embeddings\": 512,\n",
      "  \"max_relative_positions\": -1,\n",
      "  \"model_type\": \"deberta-v2\",\n",
      "  \"norm_rel_ebd\": \"layer_norm\",\n",
      "  \"num_attention_heads\": 12,\n",
      "  \"num_hidden_layers\": 12,\n",
      "  \"pad_token_id\": 0,\n",
      "  \"pooler_dropout\": 0,\n",
      "  \"pooler_hidden_act\": \"gelu\",\n",
      "  \"pooler_hidden_size\": 768,\n",
      "  \"pos_att_type\": [\n",
      "    \"p2c\",\n",
      "    \"c2p\"\n",
      "  ],\n",
      "  \"position_biased_input\": false,\n",
      "  \"position_buckets\": 256,\n",
      "  \"problem_type\": \"multi_label_classification\",\n",
      "  \"relative_attention\": true,\n",
      "  \"share_att_key\": true,\n",
      "  \"transformers_version\": \"4.39.3\",\n",
      "  \"type_vocab_size\": 0,\n",
      "  \"vocab_size\": 128100\n",
      "}\n",
      "\n"
     ]
    }
   ],
   "source": [
    "print(model.config)"
   ]
  },
  {
   "cell_type": "code",
   "execution_count": null,
   "metadata": {},
   "outputs": [],
   "source": [
    "batch_size = 2\n",
    "epochs = 3\n",
    "exp = \"1\"\n",
    "step = int(len(tokenized_data[\"train\"])/(batch_size*5)) # log after every 20% of the epoch\n",
    "\n",
    "print(step)\n",
    "\n",
    "training_args = TrainingArguments(\n",
    "    output_dir=\"./trained/absa-base\"+\"_exp\"+exp,\n",
    "    learning_rate=2e-5,\n",
    "    per_device_train_batch_size=batch_size,\n",
    "    per_device_eval_batch_size=batch_size,\n",
    "    num_train_epochs=epochs,\n",
    "    save_total_limit=3,\n",
    "    weight_decay=0.01,\n",
    "    evaluation_strategy=\"steps\",\n",
    "    eval_steps=step,\n",
    "    save_strategy=\"steps\",\n",
    "    save_steps=step,\n",
    "    load_best_model_at_end=True,\n",
    "    push_to_hub=False,\n",
    "    fp16=True,\n",
    "    logging_dir=\"./logs/absa-base\"+\"_exp\"+exp,\n",
    "    logging_strategy = \"steps\",\n",
    "    logging_steps = step\n",
    ")\n",
    "\n",
    "trainer = Trainer(\n",
    "    model=model,\n",
    "    args=training_args,\n",
    "    train_dataset=tokenized_data[\"train\"],\n",
    "    eval_dataset=tokenized_data[\"test\"],\n",
    "    tokenizer=tokenizer,\n",
    "    data_collator=data_collator,\n",
    "    compute_metrics=calculate_metrics,\n",
    ")"
   ]
  },
  {
   "cell_type": "code",
   "execution_count": null,
   "metadata": {},
   "outputs": [],
   "source": [
    "trainer.train()"
   ]
  },
  {
   "cell_type": "markdown",
   "metadata": {},
   "source": [
    "## Evaluation"
   ]
  },
  {
   "cell_type": "code",
   "execution_count": null,
   "metadata": {},
   "outputs": [],
   "source": [
    "import torch\n",
    "from datasets import load_dataset\n",
    "from transformers import AutoTokenizer, AutoModelForSequenceClassification\n",
    "import evaluate\n",
    "import numpy as np\n",
    "import pandas as pd"
   ]
  },
  {
   "cell_type": "code",
   "execution_count": null,
   "metadata": {},
   "outputs": [],
   "source": [
    "path = \"./trained/absa-base_exp3/checkpoint-49620\"\n",
    "model = AutoModelForSequenceClassification.from_pretrained(path)\n",
    "tokenizer = AutoTokenizer.from_pretrained(path)"
   ]
  },
  {
   "cell_type": "code",
   "execution_count": null,
   "metadata": {},
   "outputs": [],
   "source": [
    "from tqdm.notebook import tqdm\n",
    "import evaluate\n",
    "import numpy as np\n",
    "from sklearn.metrics import recall_score, precision_score, f1_score\n",
    "device = torch.device(\"cuda\" if torch.cuda.is_available() else \"cpu\")\n",
    "metric = evaluate.load(\"glue\", \"sst2\", device=device)\n",
    "# import precision_recall_fscore_support\n",
    "def evaluate_test_set(model, tokenizer, test_dataset, batch_size=32, pbar = False):\n",
    "    if torch.cuda.is_available():\n",
    "        device = \"cuda\"\n",
    "    else :\n",
    "        device = \"cpu\"\n",
    "    print(f\"Device: {device}\")\n",
    "    model.to(device)\n",
    "    model.eval()\n",
    "    acc = 0\n",
    "    f1 = 0\n",
    "    recall = 0\n",
    "    precision = 0\n",
    "\n",
    "    predictions = []\n",
    "    labels = []\n",
    "\n",
    "    test_dataloader = torch.utils.data.DataLoader(test_dataset, batch_size=batch_size)\n",
    "    if pbar:\n",
    "        progress = tqdm(enumerate(test_dataloader), total=len(test_dataloader))\n",
    "    for idx, batch in enumerate(test_dataloader):\n",
    "        inputs = tokenizer(batch[\"text\"], return_tensors=\"pt\", padding=True, truncation=True, max_length=512)\n",
    "        inputs = {name: tensor.to(device) for name, tensor in inputs.items()}\n",
    "        with torch.no_grad():\n",
    "            outputs = model(**inputs)\n",
    "        scores = outputs.logits\n",
    "        probs = scores.softmax(dim=1)\n",
    "        predicted_class_ids = probs.argmax(dim=1).tolist()\n",
    "\n",
    "        predictions.extend(predicted_class_ids)\n",
    "        batch_labels = batch[\"label\"]\n",
    "        labels.extend(batch_labels)\n",
    "\n",
    "        # batch_accuracy = sum([1 if label == prediction else 0 for label, prediction in zip(batch_labels, predicted_class_ids)])\n",
    "        # batch_accuracy = batch_accuracy / len(batch_labels)\n",
    "\n",
    "        batch_metric = metric.compute(predictions=predicted_class_ids, references=batch_labels)\n",
    "        batch_acc = batch_metric[\"accuracy\"]\n",
    "        batch_f1 = f1_score(batch_labels, predicted_class_ids, average='weighted', labels=np.unique(predicted_class_ids))\n",
    "        batch_recall = recall_score(batch_labels, predicted_class_ids, average='weighted', labels=np.unique(predicted_class_ids))\n",
    "        batch_precision = precision_score(batch_labels, predicted_class_ids, average='weighted', labels=np.unique(predicted_class_ids))\n",
    "        # print(batch_accuracy, batch_f1, batch_recall, batch_precision)\n",
    "    \n",
    "        acc += batch_metric[\"accuracy\"]\n",
    "        f1 += batch_f1\n",
    "        recall += batch_recall\n",
    "        precision += batch_precision\n",
    "\n",
    "        if pbar:\n",
    "            progress.update(1)\n",
    "            progress.set_description(f\"Batch {idx+1}/{len(test_dataloader)}: {batch_acc*100:.2f}%\")\n",
    "        # print(f\"Batch {idx+1}/{len(test_dataloader)}: {batch_accuracy}\")\n",
    "\n",
    "\n",
    "    acc = acc / len(test_dataloader)\n",
    "    f1 = f1 / len(test_dataloader)\n",
    "    recall = recall / len(test_dataloader)\n",
    "    precision = precision / len(test_dataloader)\n",
    "    return acc, f1, recall, precision, predictions, labels\n",
    "\n"
   ]
  },
  {
   "cell_type": "code",
   "execution_count": null,
   "metadata": {},
   "outputs": [],
   "source": [
    "accuracy, f1, recall, precision, predictions, labels =  evaluate_test_set(model, tokenizer, data[\"test\"], batch_size=32, pbar=True)"
   ]
  },
  {
   "cell_type": "code",
   "execution_count": null,
   "metadata": {},
   "outputs": [],
   "source": [
    "print(f\"Accuracy: {accuracy*100:.2f}%, F1: {f1*100:.2f}%, Recall: {recall*100:.2f}%, Precision: {precision*100:.2f}%\")"
   ]
  },
  {
   "cell_type": "code",
   "execution_count": null,
   "metadata": {},
   "outputs": [],
   "source": [
    "from sklearn.metrics import classification_report\n",
    "print(classification_report(labels, predictions, target_names=aspects, output_dict=True))"
   ]
  }
 ],
 "metadata": {
  "kernelspec": {
   "display_name": "torch",
   "language": "python",
   "name": "python3"
  },
  "language_info": {
   "codemirror_mode": {
    "name": "ipython",
    "version": 3
   },
   "file_extension": ".py",
   "mimetype": "text/x-python",
   "name": "python",
   "nbconvert_exporter": "python",
   "pygments_lexer": "ipython3",
   "version": "3.11.4"
  }
 },
 "nbformat": 4,
 "nbformat_minor": 2
}
